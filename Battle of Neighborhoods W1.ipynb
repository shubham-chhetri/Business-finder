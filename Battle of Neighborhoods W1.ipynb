{
 "cells": [
  {
   "cell_type": "markdown",
   "metadata": {
    "collapsed": true
   },
   "source": [
    "# The Battle of Neighborhoods W1"
   ]
  },
  {
   "cell_type": "markdown",
   "metadata": {},
   "source": [
    "## Introduction"
   ]
  },
  {
   "cell_type": "markdown",
   "metadata": {},
   "source": [
    "India is a large country full of oppurtunity. Opening a business by investing a huge sum of our savings or loan amount, we are taking a chance. It can make us more prosperous or we might be in a huge debth or incure huge losses. So there should be some knowledge about a place where we are opening a business like what business are popular in that area and things like that. With this information, we can significantly get a headstart in our business and the chance of risk is reduced."
   ]
  },
  {
   "cell_type": "markdown",
   "metadata": {},
   "source": [
    "## Business Problem"
   ]
  },
  {
   "cell_type": "markdown",
   "metadata": {},
   "source": [
    "The objective of this project is to analyze the various regions in our country based on latitude and longitude values and give a overview of the place based on the various business currently running in the particular region with upto 12th most common business in the region and clustering the similar regions based on their most common business and visually depicting it on the map with the help of Follium library.\n",
    "By looking at the map, we can easily visualize the region and observe the different regions and their most common business hotspot."
   ]
  },
  {
   "cell_type": "markdown",
   "metadata": {},
   "source": [
    "## Data Source"
   ]
  },
  {
   "cell_type": "markdown",
   "metadata": {},
   "source": [
    "The dataset for this project was borrowed from the Kaggle datasets, contributed by the user Kiran Reddy. You can view the dataset by clicking on the link : https://www.kaggle.com/kiranreddy24/indian-states-latitudes-and-longitudes. The dataset was then stored on IBM Db2 database and was accessed through the notebook on IBM Watson Studio where this whole project was created.\n",
    "\n",
    "The data contains three columns with column name : State, Latitude and Longitude which helped in properly communicating with the Foursquare API for gathering the information of the region."
   ]
  },
  {
   "cell_type": "code",
   "execution_count": null,
   "metadata": {},
   "outputs": [],
   "source": []
  }
 ],
 "metadata": {
  "kernelspec": {
   "display_name": "Python 3.7",
   "language": "python",
   "name": "python3"
  },
  "language_info": {
   "codemirror_mode": {
    "name": "ipython",
    "version": 3
   },
   "file_extension": ".py",
   "mimetype": "text/x-python",
   "name": "python",
   "nbconvert_exporter": "python",
   "pygments_lexer": "ipython3",
   "version": "3.7.10"
  }
 },
 "nbformat": 4,
 "nbformat_minor": 1
}
